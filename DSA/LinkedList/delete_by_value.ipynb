{
 "cells": [
  {
   "cell_type": "markdown",
   "metadata": {},
   "source": [
    "Delete by value in LL\n",
    "\n",
    "1. head value\n",
    "2. value not present\n",
    "3. value is present\n",
    "\n",
    "we have to stop 1 node before so we can change the connection"
   ]
  },
  {
   "cell_type": "code",
   "execution_count": 8,
   "metadata": {},
   "outputs": [
    {
     "name": "stdout",
     "output_type": "stream",
     "text": [
      "1 -> 2 -> 3 -> 4 -> 5 -> None\n",
      "1 -> 3 -> 4 -> 5 -> None\n"
     ]
    }
   ],
   "source": [
    "from initialize_LL import print_linked_list, take_input\n",
    "\n",
    "def delete_by_value(head,value):\n",
    "    if(head is None):\n",
    "        return None\n",
    "    if(head.data is value):\n",
    "        return head.next\n",
    "    temp = head\n",
    "    count = 0\n",
    "    \n",
    "    while(temp is not None and temp.next.data != value):\n",
    "        temp = temp.next\n",
    "        count += 1\n",
    "    if(temp is None and temp.next is None):\n",
    "        return(\"out of box\")\n",
    "    temp.next = temp.next.next\n",
    "    return head\n",
    "\n",
    "head = take_input()\n",
    "print_linked_list(head)\n",
    "head = delete_by_value(head,2)\n",
    "print_linked_list(head)"
   ]
  }
 ],
 "metadata": {
  "kernelspec": {
   "display_name": "Python 3",
   "language": "python",
   "name": "python3"
  },
  "language_info": {
   "codemirror_mode": {
    "name": "ipython",
    "version": 3
   },
   "file_extension": ".py",
   "mimetype": "text/x-python",
   "name": "python",
   "nbconvert_exporter": "python",
   "pygments_lexer": "ipython3",
   "version": "3.10.11"
  }
 },
 "nbformat": 4,
 "nbformat_minor": 2
}
