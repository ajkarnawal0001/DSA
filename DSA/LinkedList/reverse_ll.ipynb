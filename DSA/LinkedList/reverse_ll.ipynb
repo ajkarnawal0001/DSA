{
 "cells": [
  {
   "cell_type": "markdown",
   "metadata": {},
   "source": [
    "Intuation is will recursivly and add a small LL at tail"
   ]
  },
  {
   "cell_type": "code",
   "execution_count": null,
   "metadata": {},
   "outputs": [
    {
     "name": "stdout",
     "output_type": "stream",
     "text": [
      "10 -> 20 -> 30 -> 40 -> 50 -> None\n",
      "50 -> 40 -> 30 -> 20 -> 10 -> None\n"
     ]
    }
   ],
   "source": [
    "from initialize_LL import LinkedList \n",
    "\n",
    "def reverse_ll(head):\n",
    "    \"\"\"Reverses a linked list using recursion\"\"\"\n",
    "    if head is None or head.next is None:  # Base case for empty or single-node list\n",
    "        return head\n",
    "    \n",
    "    smallLL = reverse_ll(head.next)  # Recursively reverse the rest of the list\n",
    "    \n",
    "    temp = smallLL\n",
    "    while(temp.next is not None):\n",
    "        temp = temp.next\n",
    "\n",
    "    temp.next = head \n",
    "    head.next = None  # Set current node's next to None\n",
    "    \n",
    "    return smallLL  # New head of the reversed list\n",
    "\n",
    "# Create a linked list\n",
    "values = [10, 20, 30, 40, 50]\n",
    "ll = LinkedList()\n",
    "ll.create_from_list(values)\n",
    "ll.print_list()\n",
    "\n",
    "reversed_head = reverse_ll(ll.head)\n",
    "\n",
    "# Create a new LinkedList and set reversed_head\n",
    "reversed_ll = LinkedList()\n",
    "reversed_ll.head = reversed_head\n",
    "\n",
    "reversed_ll.print_list()"
   ]
  },
  {
   "cell_type": "code",
   "execution_count": 5,
   "metadata": {},
   "outputs": [
    {
     "name": "stdout",
     "output_type": "stream",
     "text": [
      "10 -> 20 -> 30 -> 40 -> 50 -> None\n",
      "recursive <initialize_LL.Node object at 0x0000017F2F8CFA00>\n",
      "recursive <initialize_LL.Node object at 0x0000017F2F931600>\n",
      "recursive <initialize_LL.Node object at 0x0000017F300D9B40>\n",
      "recursive <initialize_LL.Node object at 0x0000017F300DA920>\n",
      "print <initialize_LL.Node object at 0x0000017F300DA920>\n",
      "print <initialize_LL.Node object at 0x0000017F300D9B40>\n",
      "print <initialize_LL.Node object at 0x0000017F2F931600>\n",
      "print <initialize_LL.Node object at 0x0000017F2F8CFA00>\n",
      "50 -> 40 -> 30 -> 20 -> 10 -> None\n"
     ]
    }
   ],
   "source": [
    "from initialize_LL import LinkedList  # Import LinkedList class\n",
    "\n",
    "def reverse_ll(head):\n",
    "    \"\"\"Reverses a linked list using recursion\"\"\"\n",
    "    if head is None or head.next is None:  # Base case for empty or single-node list\n",
    "        return head\n",
    "    \n",
    "    print(\"recursive\", head)\n",
    "    smallLL = reverse_ll(head.next)  # Recursively reverse the rest of the list\n",
    "    \n",
    "    print(\"print\",head)\n",
    "    head.next.next = head  # Reverse current link\n",
    "    head.next = None  # Set current node's next to None\n",
    "    \n",
    "    return smallLL  # New head of the reversed list\n",
    "\n",
    "# Create a linked list\n",
    "values = [10, 20, 30, 40, 50]\n",
    "ll = LinkedList()\n",
    "ll.create_from_list(values)\n",
    "ll.print_list()\n",
    "\n",
    "# Reverse the linked list\n",
    "reversed_head = reverse_ll(ll.head)\n",
    "\n",
    "# Create a new LinkedList and set reversed_head\n",
    "reversed_ll = LinkedList()\n",
    "reversed_ll.head = reversed_head\n",
    "\n",
    "# Print the reversed linked list\n",
    "reversed_ll.print_list()"
   ]
  }
 ],
 "metadata": {
  "kernelspec": {
   "display_name": "Python 3",
   "language": "python",
   "name": "python3"
  },
  "language_info": {
   "codemirror_mode": {
    "name": "ipython",
    "version": 3
   },
   "file_extension": ".py",
   "mimetype": "text/x-python",
   "name": "python",
   "nbconvert_exporter": "python",
   "pygments_lexer": "ipython3",
   "version": "3.10.11"
  }
 },
 "nbformat": 4,
 "nbformat_minor": 2
}
