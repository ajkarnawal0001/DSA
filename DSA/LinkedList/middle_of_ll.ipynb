{
 "cells": [
  {
   "cell_type": "markdown",
   "metadata": {},
   "source": [
    "find the middle of linked list"
   ]
  },
  {
   "cell_type": "code",
   "execution_count": 6,
   "metadata": {},
   "outputs": [
    {
     "name": "stdout",
     "output_type": "stream",
     "text": [
      "10 -> 20 -> 30 -> 40 -> 50 -> None\n",
      "30\n"
     ]
    }
   ],
   "source": [
    "from initialize_LL import LinkedList  # Import the LinkedList class\n",
    "\n",
    "def middle_of_ll(head):\n",
    "    \"\"\"Finds the middle element of the linked list using the slow-fast pointer approach\"\"\"\n",
    "    if head is None:\n",
    "        return None  # Return None if the list is empty\n",
    "    \n",
    "    slow = head\n",
    "    fast = head\n",
    "\n",
    "    # Move fast pointer twice while slow pointer moves once\n",
    "    while fast is not None and fast.next is not None:\n",
    "        slow = slow.next\n",
    "        fast = fast.next.next\n",
    "    \n",
    "    return slow  # The slow pointer will be at the middle\n",
    "\n",
    "# Create a linked list\n",
    "values = [10, 20, 30, 40, 50]\n",
    "ll = LinkedList()\n",
    "ll.create_from_list(values)\n",
    "ll.print_list()\n",
    "\n",
    "# Find the middle element\n",
    "middle_node = middle_of_ll(ll.head) \n",
    "print(middle_node.data)"
   ]
  }
 ],
 "metadata": {
  "kernelspec": {
   "display_name": "Python 3",
   "language": "python",
   "name": "python3"
  },
  "language_info": {
   "codemirror_mode": {
    "name": "ipython",
    "version": 3
   },
   "file_extension": ".py",
   "mimetype": "text/x-python",
   "name": "python",
   "nbconvert_exporter": "python",
   "pygments_lexer": "ipython3",
   "version": "3.10.11"
  }
 },
 "nbformat": 4,
 "nbformat_minor": 2
}
