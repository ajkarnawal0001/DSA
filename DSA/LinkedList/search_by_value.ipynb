{
 "cells": [
  {
   "cell_type": "markdown",
   "metadata": {},
   "source": [
    "Search in a linked list"
   ]
  },
  {
   "cell_type": "code",
   "execution_count": 4,
   "metadata": {},
   "outputs": [
    {
     "name": "stdout",
     "output_type": "stream",
     "text": [
      "1 -> 2 -> 3 -> 4 -> 5 -> None\n",
      "1\n"
     ]
    }
   ],
   "source": [
    "from initialize_LL import print_linked_list, take_input\n",
    "\n",
    "def search_in_LL(head,value):\n",
    "    temp = head\n",
    "    index = 0\n",
    "\n",
    "    while temp != None:\n",
    "        if(temp.data == value):\n",
    "            return index\n",
    "        temp = temp.next\n",
    "        index+=1\n",
    "    \n",
    "    return \"not found\"\n",
    "\n",
    "\n",
    "\n",
    "head = take_input()\n",
    "print_linked_list(head)\n",
    "head = search_in_LL(head,2)\n",
    "print(head)"
   ]
  }
 ],
 "metadata": {
  "kernelspec": {
   "display_name": "Python 3",
   "language": "python",
   "name": "python3"
  },
  "language_info": {
   "codemirror_mode": {
    "name": "ipython",
    "version": 3
   },
   "file_extension": ".py",
   "mimetype": "text/x-python",
   "name": "python",
   "nbconvert_exporter": "python",
   "pygments_lexer": "ipython3",
   "version": "3.10.11"
  }
 },
 "nbformat": 4,
 "nbformat_minor": 2
}
