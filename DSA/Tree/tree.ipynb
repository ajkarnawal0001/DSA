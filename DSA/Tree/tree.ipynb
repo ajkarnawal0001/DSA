{
 "cells": [
  {
   "cell_type": "markdown",
   "metadata": {},
   "source": [
    "count nodes"
   ]
  },
  {
   "cell_type": "code",
   "execution_count": 1,
   "metadata": {},
   "outputs": [
    {
     "name": "stdout",
     "output_type": "stream",
     "text": [
      "Total nodes: 5\n"
     ]
    }
   ],
   "source": [
    "class TreeNode:\n",
    "    def __init__(self, data):\n",
    "        self.data = data\n",
    "        self.children = []  # List to store children\n",
    "\n",
    "    def add_child(self, child):\n",
    "        self.children.append(child)\n",
    "\n",
    "# Function to count the number of nodes in the tree\n",
    "def count_nodes(root):\n",
    "    if not root:\n",
    "        return 0\n",
    "    \n",
    "    count = 1  # Count the current node\n",
    "    for child in root.children:\n",
    "        count += count_nodes(child)  # Recursively count children\n",
    "    \n",
    "    return count\n",
    "\n",
    "# Creating the tree\n",
    "root = TreeNode(1)\n",
    "node2 = TreeNode(2)\n",
    "node3 = TreeNode(3)\n",
    "node4 = TreeNode(4)\n",
    "node5 = TreeNode(5)\n",
    "\n",
    "root.add_child(node2)\n",
    "root.add_child(node3)\n",
    "root.add_child(node4)\n",
    "\n",
    "node2.add_child(node5)\n",
    "\n",
    "# Counting nodes\n",
    "print(\"Total nodes:\", count_nodes(root))\n"
   ]
  }
 ],
 "metadata": {
  "kernelspec": {
   "display_name": "Python 3",
   "language": "python",
   "name": "python3"
  },
  "language_info": {
   "codemirror_mode": {
    "name": "ipython",
    "version": 3
   },
   "file_extension": ".py",
   "mimetype": "text/x-python",
   "name": "python",
   "nbconvert_exporter": "python",
   "pygments_lexer": "ipython3",
   "version": "3.10.11"
  }
 },
 "nbformat": 4,
 "nbformat_minor": 2
}
