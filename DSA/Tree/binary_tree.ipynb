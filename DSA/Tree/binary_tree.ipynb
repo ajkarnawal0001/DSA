{
 "cells": [
  {
   "cell_type": "markdown",
   "metadata": {},
   "source": [
    "binary tree print function"
   ]
  },
  {
   "cell_type": "code",
   "execution_count": 1,
   "metadata": {},
   "outputs": [
    {
     "name": "stdout",
     "output_type": "stream",
     "text": [
      "Root: 1\n",
      "    L--- 2\n",
      "        L--- 4\n",
      "        R--- 5\n",
      "    R--- 3\n",
      "        L--- 6\n",
      "        R--- 7\n"
     ]
    }
   ],
   "source": [
    "class TreeNode:\n",
    "    def __init__(self, val=0, left=None, right=None):\n",
    "        self.val = val\n",
    "        self.left = left\n",
    "        self.right = right\n",
    "\n",
    "def print_tree(root, level=0, prefix=\"Root: \"):\n",
    "    if root is not None:\n",
    "        print(\" \" * (level * 4) + prefix + str(root.val))\n",
    "        if root.left or root.right:\n",
    "            if root.left:\n",
    "                print_tree(root.left, level + 1, \"L--- \")\n",
    "            else:\n",
    "                print(\" \" * ((level + 1) * 4) + \"L--- None\")\n",
    "            \n",
    "            if root.right:\n",
    "                print_tree(root.right, level + 1, \"R--- \")\n",
    "            else:\n",
    "                print(\" \" * ((level + 1) * 4) + \"R--- None\")\n",
    "\n",
    "# Example usage\n",
    "tree = TreeNode(1, \n",
    "                TreeNode(2, TreeNode(4), TreeNode(5)),\n",
    "                TreeNode(3, TreeNode(6), TreeNode(7)))\n",
    "\n",
    "print_tree(tree)"
   ]
  },
  {
   "cell_type": "markdown",
   "metadata": {},
   "source": [
    "take input function for binary tree"
   ]
  },
  {
   "cell_type": "code",
   "execution_count": 4,
   "metadata": {},
   "outputs": [
    {
     "name": "stdout",
     "output_type": "stream",
     "text": [
      "Entering left child of 1:\n",
      "Entering left child of 2:\n",
      "Entering left child of 3:\n",
      "Entering right child of 3:\n",
      "Entering right child of 2:\n",
      "Entering right child of 1:\n",
      "Entering left child of 4:\n",
      "Entering right child of 4:\n",
      "Root: 1\n",
      "    L--- 2\n",
      "        L--- 3\n",
      "        R--- None\n",
      "    R--- 4\n"
     ]
    }
   ],
   "source": [
    "def take_input():\n",
    "    val = input(\"Enter node value (or 'None' to skip): \")\n",
    "    if val.lower() == 'none':\n",
    "        return None\n",
    "    node = TreeNode(int(val))\n",
    "    print(f\"Entering left child of {val}:\")\n",
    "    node.left = take_input()\n",
    "    print(f\"Entering right child of {val}:\")\n",
    "    node.right = take_input()\n",
    "    return node\n",
    "\n",
    "tree = take_input()\n",
    "print_tree(tree)"
   ]
  },
  {
   "cell_type": "markdown",
   "metadata": {},
   "source": [
    "take input level wise"
   ]
  },
  {
   "cell_type": "code",
   "execution_count": null,
   "metadata": {},
   "outputs": [],
   "source": [
    "def take_input_levelwise():\n",
    "    val = input(\"Enter root node value (or 'None' to skip): \")\n",
    "    if val.lower() == 'none':\n",
    "        return None\n",
    "    root = TreeNode(int(val))\n",
    "    queue = deque([root])\n",
    "    \n",
    "    while queue:\n",
    "        current = queue.popleft()\n",
    "        \n",
    "        left_val = input(f\"Enter left child of {current.val} (or 'None' to skip): \")\n",
    "        if left_val.lower() != 'none':\n",
    "            current.left = TreeNode(int(left_val))\n",
    "            queue.append(current.left)\n",
    "        \n",
    "        right_val = input(f\"Enter right child of {current.val} (or 'None' to skip): \")\n",
    "        if right_val.lower() != 'none':\n",
    "            current.right = TreeNode(int(right_val))\n",
    "            queue.append(current.right)\n",
    "    \n",
    "    return root"
   ]
  },
  {
   "cell_type": "markdown",
   "metadata": {},
   "source": [
    "print tree level wise"
   ]
  },
  {
   "cell_type": "code",
   "execution_count": 5,
   "metadata": {},
   "outputs": [],
   "source": [
    "def print_tree_levelwise(root):\n",
    "    if not root:\n",
    "        print(\"Tree is empty\")\n",
    "        return\n",
    "    \n",
    "    queue = deque([root])\n",
    "    while queue:\n",
    "        current = queue.popleft()\n",
    "        print(current.val, end=' ')\n",
    "        if current.left:\n",
    "            queue.append(current.left)\n",
    "        if current.right:\n",
    "            queue.append(current.right)\n",
    "    print()"
   ]
  },
  {
   "cell_type": "markdown",
   "metadata": {},
   "source": [
    "diameter of a tree"
   ]
  },
  {
   "cell_type": "code",
   "execution_count": null,
   "metadata": {},
   "outputs": [],
   "source": [
    "def tree_diameter(root):\n",
    "    def helper(node):\n",
    "        if not node:\n",
    "            return 0, 0  # height, diameter\n",
    "        \n",
    "        left_height, left_diameter = helper(node.left)\n",
    "        right_height, right_diameter = helper(node.right)\n",
    "        \n",
    "        height = 1 + max(left_height, right_height)\n",
    "        diameter = max(left_diameter, right_diameter, left_height + right_height)\n",
    "        \n",
    "        return height, diameter\n",
    "    \n",
    "    return helper(root)[1]"
   ]
  },
  {
   "cell_type": "markdown",
   "metadata": {},
   "source": [
    "construct a tree from preorder and inorder"
   ]
  },
  {
   "cell_type": "code",
   "execution_count": null,
   "metadata": {},
   "outputs": [
    {
     "name": "stdout",
     "output_type": "stream",
     "text": [
      "9 3 15 20 7 "
     ]
    }
   ],
   "source": [
    "class TreeNode:\n",
    "    def __init__(self, val=0, left=None, right=None):\n",
    "        self.val = val\n",
    "        self.left = left\n",
    "        self.right = right\n",
    "\n",
    "def buildTree(preorder, inorder):\n",
    "    if not preorder or not inorder:\n",
    "        return None\n",
    "    \n",
    "    root_val = preorder.pop(0)\n",
    "    root = TreeNode(root_val)\n",
    "    \n",
    "    inorder_index = inorder.index(root_val)\n",
    "    \n",
    "    root.left = buildTree(preorder, inorder[:inorder_index])\n",
    "    root.right = buildTree(preorder, inorder[inorder_index + 1:])\n",
    "    \n",
    "    return root\n",
    "\n",
    "def print_inorder(root):\n",
    "    if root:\n",
    "        print_inorder(root.left)\n",
    "        print(root.val, end=\" \")\n",
    "        print_inorder(root.right)\n",
    "\n",
    "# Example usage\n",
    "preorder = [3, 9, 20, 15, 7]\n",
    "# root.left = buildTree(preorder, inorder[:inorder_index])\n",
    "inorder = [9, 3, 15, 20, 7]\n",
    "inorder_index = inorder.index(9)\n",
    "root = buildTree(preorder, inorder)\n",
    "print_inorder(root)  # Output should match inorder sequence"
   ]
  }
 ],
 "metadata": {
  "kernelspec": {
   "display_name": "Python 3",
   "language": "python",
   "name": "python3"
  },
  "language_info": {
   "codemirror_mode": {
    "name": "ipython",
    "version": 3
   },
   "file_extension": ".py",
   "mimetype": "text/x-python",
   "name": "python",
   "nbconvert_exporter": "python",
   "pygments_lexer": "ipython3",
   "version": "3.10.11"
  }
 },
 "nbformat": 4,
 "nbformat_minor": 2
}
